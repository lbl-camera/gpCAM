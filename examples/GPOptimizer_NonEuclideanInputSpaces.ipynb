{
 "cells": [
  {
   "cell_type": "markdown",
   "id": "2377d373",
   "metadata": {},
   "source": [
    "# GPs on Non-Euclidean Input Spaces\n",
    "GPs on non-Euclidean input spaces have become more and more relevant in recent years, especially for Bayesian Optimization in chemistry. gpCAM can be used for that purpose as long as a correct kernel is defined. Of course, if mean and noise functions are also provided, they have to operate on these non-Euclidean spaces as well. \n",
    "\n",
    "In this example, we run a small GP on words."
   ]
  },
  {
   "cell_type": "code",
   "execution_count": 1,
   "id": "61c3f3bd",
   "metadata": {},
   "outputs": [],
   "source": [
    "# Install the newest version of gpcam\n",
    "#!pip install gpcam==8.3.4"
   ]
  },
  {
   "cell_type": "code",
   "execution_count": 2,
   "id": "b5399565",
   "metadata": {},
   "outputs": [],
   "source": [
    "import numpy as np\n",
    "import matplotlib.pyplot as plt\n",
    "from gpcam import GPOptimizer\n",
    "from gpcam.kernels import *\n",
    "%load_ext autoreload\n",
    "%autoreload 2"
   ]
  },
  {
   "cell_type": "code",
   "execution_count": 3,
   "id": "b91e69d3",
   "metadata": {},
   "outputs": [
    {
     "name": "stdout",
     "output_type": "stream",
     "text": [
      "hyperparameters:  [47.96015193 30.91006639]\n",
      "prediction :  [1.99898737]\n",
      "uncertainty:  [0.83726672]\n"
     ]
    },
    {
     "name": "stderr",
     "output_type": "stream",
     "text": [
      "/home/marcus/VirtualEnvironments/gpcam_dev/lib/python3.11/site-packages/fvgp/gp.py:295: UserWarning: No noise function or measurement noise provided. Noise variances will be set to (0.01 * mean(|y_data|))^2.\n",
      "  self.likelihood = GPlikelihood(self.data,\n"
     ]
    }
   ],
   "source": [
    "#making the x_data a set will allow us to put any objects or structures into it.\n",
    "x_data = [('hello'),('world'),('this'),('is'),('gpcam')]\n",
    "y_data = np.array([2.,1.9,1.8,3.0,5.])\n",
    "\n",
    "\n",
    "def string_distance(string1, string2):\n",
    "    difference = abs(len(string1) - len(string2))\n",
    "    common_length = min(len(string1),len(string2))\n",
    "    string1 = string1[0:common_length]\n",
    "    string2 = string2[0:common_length]\n",
    "    \n",
    "    for i in range(len(string1)):\n",
    "        if string1[i] != string2[i]:\n",
    "            difference += 1.\n",
    "\n",
    "    return difference\n",
    "\n",
    "\n",
    "def kernel(x1,x2,hps):\n",
    "    d = np.zeros((len(x1),len(x2)))\n",
    "    count1 = 0\n",
    "    for string1 in x1:\n",
    "        count2 = 0\n",
    "        for string2 in x2:\n",
    "            d[count1,count2] = string_distance(string1,string2)\n",
    "            count2 += 1\n",
    "        count1 += 1\n",
    "    return hps[0] * matern_kernel_diff1(d,hps[1])\n",
    "    \n",
    "\n",
    "\n",
    "my_gp = GPOptimizer(x_data,y_data, init_hyperparameters=np.ones((2)),\n",
    "                    kernel_function=kernel)\n",
    "bounds = np.array([[0.001,100.],[0.001,100]])\n",
    "my_gp.train(hyperparameter_bounds=bounds)\n",
    "\n",
    "print(\"hyperparameters: \", my_gp.hyperparameters)\n",
    "print(\"prediction : \",my_gp.posterior_mean(['full'])[\"m(x)\"])\n",
    "print(\"uncertainty: \",np.sqrt(my_gp.posterior_covariance(['full'])[\"v(x)\"]))"
   ]
  },
  {
   "cell_type": "code",
   "execution_count": 4,
   "id": "a5644ec5",
   "metadata": {},
   "outputs": [
    {
     "data": {
      "text/plain": [
       "{'x': array([['could'],\n",
       "        ['who'],\n",
       "        ['be'],\n",
       "        ['it']], dtype='<U5'),\n",
       " 'f_a(x)': array([0.71438828, 0.7056317 , 0.55627768, 0.37741713]),\n",
       " 'opt_obj': None}"
      ]
     },
     "execution_count": 4,
     "metadata": {},
     "output_type": "execute_result"
    }
   ],
   "source": [
    "##which one should I measure next?\n",
    "my_gp.ask([('who'),('could'),(\"it\"),(\"be\")], n = 4)"
   ]
  },
  {
   "cell_type": "markdown",
   "id": "2e86a64a-f6d6-4dfb-aab5-6324225cff2d",
   "metadata": {},
   "source": [
    "## Non-Euclidean Input Spaces with Multiple Tasks"
   ]
  },
  {
   "cell_type": "code",
   "execution_count": 5,
   "id": "f78b2e6b-68be-47f0-99db-82382eeb7944",
   "metadata": {},
   "outputs": [
    {
     "name": "stdout",
     "output_type": "stream",
     "text": [
      "The autoreload extension is already loaded. To reload it, use:\n",
      "  %reload_ext autoreload\n"
     ]
    }
   ],
   "source": [
    "import numpy as np\n",
    "import matplotlib.pyplot as plt\n",
    "from gpcam import fvGPOptimizer\n",
    "import plotly.graph_objects as go\n",
    "from itertools import product\n",
    "\n",
    "%load_ext autoreload\n",
    "%autoreload 2"
   ]
  },
  {
   "cell_type": "code",
   "execution_count": 6,
   "id": "401a8d86-6205-4944-b9ed-e0397172b03f",
   "metadata": {},
   "outputs": [
    {
     "name": "stdout",
     "output_type": "stream",
     "text": [
      "4\n",
      "(4, 5)\n"
     ]
    }
   ],
   "source": [
    "x_data = ['frf','ferfe','ferf','febhn']\n",
    "y_data = np.zeros((len(x_data),5))\n",
    "\n",
    "\n",
    "y_data[:,0] = np.random.rand(len(x_data))\n",
    "y_data[:,1] = np.random.rand(len(x_data))\n",
    "y_data[:,2] = np.random.rand(len(x_data))\n",
    "y_data[:,3] = np.random.rand(len(x_data))\n",
    "y_data[:,4] = np.random.rand(len(x_data))\n",
    "\n",
    "#it is good practice to check the format of the data\n",
    "print(len(x_data))\n",
    "print(y_data.shape)"
   ]
  },
  {
   "cell_type": "code",
   "execution_count": 7,
   "id": "19bccdab-1444-4dc4-bb44-dd88340f541e",
   "metadata": {},
   "outputs": [],
   "source": [
    "def string_distance(string1, string2):\n",
    "    difference = abs(len(string1) - len(string2))\n",
    "    common_length = min(len(string1),len(string2))\n",
    "    string1 = string1[0:common_length]\n",
    "    string2 = string2[0:common_length]\n",
    "    \n",
    "    for i in range(len(string1)):\n",
    "        if string1[i] != string2[i]:\n",
    "            difference += 1.\n",
    "\n",
    "    return difference\n",
    "\n",
    "\n",
    "from gpcam.kernels import matern_kernel_diff1\n",
    "def kernel(x1,x2,hps):\n",
    "    d = np.zeros((len(x1),len(x2)))\n",
    "    count1 = 0\n",
    "    for entry in x1:\n",
    "        string1 = entry[0]\n",
    "        count2 = 0\n",
    "        for entry2 in x2:\n",
    "            string2 = entry2[0]\n",
    "            d[count1,count2] = string_distance(string1,string2)\n",
    "            count2 += 1\n",
    "        count1 += 1\n",
    "    return hps[0] * matern_kernel_diff1(d,hps[1])\n",
    "    \n",
    "\n",
    "bounds = np.array([[0.001,100.],[0.001,100]])"
   ]
  },
  {
   "cell_type": "code",
   "execution_count": 8,
   "id": "a8b3c342-6829-42f7-bf9f-90cf3d9bf069",
   "metadata": {},
   "outputs": [
    {
     "name": "stdout",
     "output_type": "stream",
     "text": [
      "Global Training in progress\n"
     ]
    },
    {
     "data": {
      "text/plain": [
       "array([1., 1.])"
      ]
     },
     "execution_count": 8,
     "metadata": {},
     "output_type": "execute_result"
    }
   ],
   "source": [
    "my_gp2 = fvGPOptimizer(x_data,y_data,init_hyperparameters=np.ones((2)),\n",
    "              kernel_function=kernel\n",
    "             )\n",
    "print(\"Global Training in progress\")\n",
    "#use the next two lines if kernel `mkernel` is used\n",
    "#if not a default deep kernel will be used that will set initi hyperparameters and bounds\n",
    "#hps_bounds = np.array([[0.001,10000.],[1.,1000.]])\n",
    "#my_gp2.train(hyperparameter_bounds = hps_bounds, max_iter = 2)\n",
    "\n",
    "#use this next line if the default (deep) kernel is used (no bounds required)\n",
    "my_gp2.train(hyperparameter_bounds=bounds, max_iter = 20)"
   ]
  },
  {
   "cell_type": "code",
   "execution_count": 9,
   "id": "b94b089a-332b-4c31-9535-2adb8ecd6f7a",
   "metadata": {},
   "outputs": [
    {
     "data": {
      "text/plain": [
       "{'x': ['dwed', 'dwe'],\n",
       " 'm(x)': array([[0.45083945, 0.45083945, 0.45083945, 0.45083945],\n",
       "        [0.44574185, 0.44574185, 0.44574185, 0.44574185]]),\n",
       " 'm(x)_flat': array([0.45083945, 0.44574185, 0.45083945, 0.44574185, 0.45083945,\n",
       "        0.44574185, 0.45083945, 0.44574185]),\n",
       " 'x_pred': [['dwed', np.int64(0)],\n",
       "  ['dwe', np.int64(0)],\n",
       "  ['dwed', np.int64(1)],\n",
       "  ['dwe', np.int64(1)],\n",
       "  ['dwed', np.int64(2)],\n",
       "  ['dwe', np.int64(2)],\n",
       "  ['dwed', np.int64(3)],\n",
       "  ['dwe', np.int64(3)]]}"
      ]
     },
     "execution_count": 9,
     "metadata": {},
     "output_type": "execute_result"
    }
   ],
   "source": [
    "x_pred = [\"dwed\",\"dwe\"]\n",
    "my_gp2.posterior_mean(x_pred, x_out = np.array([0,1,2,3]))"
   ]
  },
  {
   "cell_type": "code",
   "execution_count": 10,
   "id": "0ca94f3f-452f-4173-a37b-22fae5ed9f19",
   "metadata": {},
   "outputs": [
    {
     "data": {
      "text/plain": [
       "{'x': array([['could'],\n",
       "        ['who'],\n",
       "        ['it'],\n",
       "        ['be']], dtype='<U5'),\n",
       " 'f_a(x)': array([3.9999642 , 3.99509395, 3.99509395, 3.99034102]),\n",
       " 'opt_obj': None}"
      ]
     },
     "execution_count": 10,
     "metadata": {},
     "output_type": "execute_result"
    }
   ],
   "source": [
    "my_gp2.ask([('who'),('could'),(\"it\"),(\"be\")], n = 4, x_out=np.array([0,1,2,3]), vectorized=True)"
   ]
  },
  {
   "cell_type": "code",
   "execution_count": null,
   "id": "30a9dcef-a1fe-445f-8468-1664b2575a5c",
   "metadata": {},
   "outputs": [],
   "source": []
  },
  {
   "cell_type": "code",
   "execution_count": null,
   "id": "55e1eb8f-13fb-47c1-8264-4e8f969ea46f",
   "metadata": {},
   "outputs": [],
   "source": []
  }
 ],
 "metadata": {
  "kernelspec": {
   "display_name": "Python 3 (ipykernel)",
   "language": "python",
   "name": "python3"
  },
  "language_info": {
   "codemirror_mode": {
    "name": "ipython",
    "version": 3
   },
   "file_extension": ".py",
   "mimetype": "text/x-python",
   "name": "python",
   "nbconvert_exporter": "python",
   "pygments_lexer": "ipython3",
   "version": "3.11.14"
  }
 },
 "nbformat": 4,
 "nbformat_minor": 5
}
